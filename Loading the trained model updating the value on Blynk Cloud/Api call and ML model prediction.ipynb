{
 "cells": [
  {
   "cell_type": "code",
   "execution_count": null,
   "id": "8abf6c71-399e-45df-8080-645f76d8a287",
   "metadata": {},
   "outputs": [],
   "source": [
    "!pip install blynklib\n",
    "!pip install blynk-library-python"
   ]
  },
  {
   "cell_type": "markdown",
   "id": "24e3f1b3-6921-4611-a807-9f7152474590",
   "metadata": {},
   "source": [
    "# Combined code"
   ]
  },
  {
   "cell_type": "code",
   "execution_count": null,
   "id": "6a27c89e-da29-423b-b08d-97f4174fb12f",
   "metadata": {
    "scrolled": true
   },
   "outputs": [],
   "source": [
    "import joblib\n",
    "import pandas as pd\n",
    "import requests\n",
    "import BlynkLib\n",
    "import time\n",
    "\n",
    "BLYNK_API_KEY = \"kZe6zuBivQAde3-2rk_2PjyKG0XHvwky\"\n",
    "while(True):\n",
    "    VIRTUAL_PIN0 = 0\n",
    "    VIRTUAL_PIN1 = 1\n",
    "    VIRTUAL_PIN2 = 2\n",
    "    VIRTUAL_PIN3 = 3\n",
    "    \n",
    "    url1 = f\"https://blr1.blynk.cloud/external/api/get?token={BLYNK_API_KEY}&v{VIRTUAL_PIN0}\"\n",
    "    url2 = f\"https://blr1.blynk.cloud/external/api/get?token={BLYNK_API_KEY}&v{VIRTUAL_PIN1}\"\n",
    "    url3 = f\"https://blr1.blynk.cloud/external/api/get?token={BLYNK_API_KEY}&v{VIRTUAL_PIN2}\"\n",
    "    \n",
    "    temp = requests.get(url1)\n",
    "    humd = requests.get(url2)\n",
    "    mois = requests.get(url3)\n",
    "    \n",
    "    data = {\n",
    "        'CropDays': [29.0],\n",
    "        'SoilMoisture': [mois.text],\n",
    "        'temperature': [temp.text],\n",
    "        'Humidity': [humd.text],\n",
    "        'CropType': [7.0]\n",
    "    }\n",
    "    \n",
    "    df = pd.DataFrame(data)\n",
    "    print(df)\n",
    "    \n",
    "    dtree = joblib.load('decision_tree.joblib')\n",
    "    y_pred = dtree.predict(df)\n",
    "    \n",
    "    print(y_pred)\n",
    "    \n",
    "    VIRTUAL_PIN3 = 3\n",
    "    url = f\"https://blr1.blynk.cloud/external/api/update?token={BLYNK_API_KEY}&v{VIRTUAL_PIN3}={y_pred[0]}\"\n",
    "    \n",
    "    response = requests.get(url)\n",
    "    \n",
    "    if response.status_code == 200:\n",
    "        print(f\"Value {y_pred[0]} updated successfully for pin V{VIRTUAL_PIN3}\")\n",
    "    else:\n",
    "        print(f\"Error updating value. Status code: {response.status_code}\")\n",
    "        print(response.text)  # Print the response content for further investigation\n",
    "        print(url)\n",
    "    time.sleep(1)"
   ]
  }
 ],
 "metadata": {
  "kernelspec": {
   "display_name": "Python 3 (ipykernel)",
   "language": "python",
   "name": "python3"
  },
  "language_info": {
   "codemirror_mode": {
    "name": "ipython",
    "version": 3
   },
   "file_extension": ".py",
   "mimetype": "text/x-python",
   "name": "python",
   "nbconvert_exporter": "python",
   "pygments_lexer": "ipython3",
   "version": "3.10.3"
  }
 },
 "nbformat": 4,
 "nbformat_minor": 5
}
